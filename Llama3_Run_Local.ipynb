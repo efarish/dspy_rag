{
 "cells": [
  {
   "cell_type": "markdown",
   "id": "aaac179b",
   "metadata": {},
   "source": [
    "# Project: Running Llama 3.0 Locally"
   ]
  },
  {
   "cell_type": "code",
   "execution_count": 1,
   "id": "af9206b9",
   "metadata": {},
   "outputs": [],
   "source": [
    "%%capture --no-stderr\n",
    "%pip install -qU langchain langchain_community langchain-openai langchainhub langchain-ollama "
   ]
  },
  {
   "cell_type": "markdown",
   "id": "7951f8d8",
   "metadata": {},
   "source": [
    "Commands to install Ollama on AWS Ubuntu ml.t3.xlarge."
   ]
  },
  {
   "cell_type": "code",
   "execution_count": null,
   "id": "f9585abc",
   "metadata": {},
   "outputs": [],
   "source": [
    "!sudo apt update && sudo apt upgrade --assume-yes\n",
    "!sudo apt install curl --assume-yes\n",
    "!curl --version\n",
    "!curl -fsSL https://ollama.com/install.sh | sh\n",
    "!ollama serve > server.out 2>&1 &\n",
    "!ollama run llama3.1:8b > model.out 2>&1 &"
   ]
  },
  {
   "cell_type": "code",
   "execution_count": 20,
   "id": "8704234d",
   "metadata": {},
   "outputs": [
    {
     "name": "stdout",
     "output_type": "stream",
     "text": [
      "               total        used        free      shared  buff/cache   available\n",
      "Mem:            15Gi       6.6Gi       211Mi       0.0Ki       8.7Gi       8.5Gi\n",
      "Swap:             0B          0B          0B\n"
     ]
    }
   ],
   "source": [
    "!free -mh"
   ]
  },
  {
   "cell_type": "markdown",
   "id": "95b89064",
   "metadata": {},
   "source": [
    "Below the client is created. "
   ]
  },
  {
   "cell_type": "code",
   "execution_count": 13,
   "id": "8a7d2512-f7be-474d-936f-a24981a355b4",
   "metadata": {},
   "outputs": [],
   "source": [
    "from langchain_ollama import ChatOllama\n",
    "from langchain.prompts import PromptTemplate\n",
    "from langchain_core.output_parsers import StrOutputParser\n",
    "\n",
    "prompt = PromptTemplate(\n",
    "    template=\"\"\"You are an assistant that knows about Meta Llama. \n",
    "    \n",
    "    If you don't know the answer, just say that you don't know. \n",
    "    \n",
    "    Use one sentence to answer the question concisely.\n",
    "\n",
    "    Question: {question} \n",
    "\n",
    "    Answer: \n",
    "    \"\"\",\n",
    "    input_variables=[\"question\"],\n",
    ")\n",
    "llm = ChatOllama(\n",
    "    model=\"llama3.1\",\n",
    "    temperature=0,\n",
    ")\n",
    "chain = prompt | llm | StrOutputParser()"
   ]
  },
  {
   "cell_type": "markdown",
   "id": "74fafd3a",
   "metadata": {},
   "source": [
    "Low lets test it with a question it shouldn't have information about. "
   ]
  },
  {
   "cell_type": "code",
   "execution_count": 19,
   "id": "671c460d-f5bf-4a80-bab6-86453aececa4",
   "metadata": {},
   "outputs": [
    {
     "name": "stdout",
     "output_type": "stream",
     "text": [
      "CPU times: user 27 ms, sys: 0 ns, total: 27 ms\n",
      "Wall time: 3.33 s\n"
     ]
    },
    {
     "data": {
      "text/plain": [
       "\"I don't know.\""
      ]
     },
     "execution_count": 19,
     "metadata": {},
     "output_type": "execute_result"
    }
   ],
   "source": [
    "%%time\n",
    "chain.invoke({'question':'What is the Knowledge cutoff for the text only version of Meta Llama 3?'})"
   ]
  },
  {
   "cell_type": "markdown",
   "id": "1a0c28a2",
   "metadata": {},
   "source": [
    "This response looks correct as the knowledge cutoff for Llama 3.1 is December 2023."
   ]
  }
 ],
 "metadata": {
  "kernelspec": {
   "display_name": "Python 3 (ipykernel)",
   "language": "python",
   "name": "python3"
  },
  "language_info": {
   "codemirror_mode": {
    "name": "ipython",
    "version": 3
   },
   "file_extension": ".py",
   "mimetype": "text/x-python",
   "name": "python",
   "nbconvert_exporter": "python",
   "pygments_lexer": "ipython3",
   "version": "3.10.14"
  }
 },
 "nbformat": 4,
 "nbformat_minor": 5
}
