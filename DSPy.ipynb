{
 "cells": [
  {
   "cell_type": "code",
   "execution_count": 1,
   "id": "94d22579-1a7f-4e6d-8234-40902b454b32",
   "metadata": {},
   "outputs": [
    {
     "name": "stderr",
     "output_type": "stream",
     "text": [
      "\n",
      "[notice] A new release of pip is available: 24.0 -> 24.2\n",
      "[notice] To update, run: python.exe -m pip install --upgrade pip\n"
     ]
    }
   ],
   "source": [
    "!pip install -q git+https://github.com/stanfordnlp/dspy.git"
   ]
  },
  {
   "cell_type": "code",
   "execution_count": 3,
   "id": "4758cbd6-9517-4b0b-8ba1-d87b96fae4c4",
   "metadata": {},
   "outputs": [
    {
     "data": {
      "text/plain": [
       "[Document(metadata={'split': 1}, page_content='A beginning is the time for taking the most delicate care that the balances are correct. This every sister of the Bene Gesserit knows. To begin your study of the life of Muad\\'Dib, then, take care that you first place him in his time: born in the 57th year of the Padishah Emperor, Shaddam IV. And take the most special care that you locate Muad\\'Dib in his place: the planet Arrakis. Do not be deceived by the fact that he was born on Caladan and lived his first fifteen years there. Arrakis, the planet known as Dune, is forever his place.\\n-from \"Manual of Muad\\'Dib\" by the Princess Irulan\\n\\nIn the week before their departure to Arrakis, when all the final scurrying about had reached a nearly unbearable frenzy, an old crone came to visit the mother of the boy, Paul.\\nIt was a warm night at Castle Caladan, and the ancient pile of stone that had served the Atreides family as home for twenty-six generations bore that cooled-sweat feeling it acquired before a change in the weather.\\nThe old woman was let in by the side door down the vaulted passage by Paul\\'s room and she was allowed a moment to peer in at him where he lay in his bed.\\nBy the half-light of a suspensor lamp, dimmed and hanging near the floor, the awakened boy could see a bulky female shape at his door, standing one step ahead of his mother. The old woman was a witch shadow -- hair like matted spiderwebs, hooded \\'round darkness of features, eyes like glittering jewels.\\n\"Is he not small for his age, Jessica?\" the old woman asked. Her voice wheezed and twanged like an untuned baliset.\\nPaul\\'s mother answered in her soft contralto: \"The Atreides are known to start late getting their growth, Your Reverence.\" \\n\"So I\\'ve heard, so I\\'ve heard,\" wheezed the old woman. \"Yet he\\'s already fifteen.\" \\n\"Yes, Your Reverence.\"\\n\"He\\'s awake and listening to us,\" said the old woman. \"Sly little rascal.\" She chuckled. \"But royalty has need of slyness. And if he\\'s really the Kwisatz Haderach'),\n",
       " Document(metadata={'split': 4}, page_content=' You\\'ll ride upon your own two feet without \\'thopter or groundcar or mount.\"\\nAnd Paul had been caught more by her tone -- singsong and wavering -- than by her words.\\n\"When you live upon Arrakis,\" she had said, \"khala, the land is empty. The moons will be your friends, the sun your enemy.\" \\nPaul had sensed his mother come up beside him away from her post guarding the door. She had looked at the Reverend Mother and asked: \"Do you see no hope. Your Reverence?\"\\n\"Not for the father.\" And the old woman had waved Jessica to silence, looked down at Paul. \"Grave this on your memory, lad: A world is supported by four things . . . \" She held up four big-knuckled fingers. \". . . the learning of the wise, the justice of the great, the prayers of the righteous and the valor of the brave. But all of these are as nothing . . . \" She closed her fingers into a fist. \". . . without a ruler who knows the art of ruling. Make that the science of your tradition!\"\\nA week had passed since that day with the Reverend Mother. Her words were only now beginning to come into full register. Now, sitting in the training room with Thufir Hawat, Paul felt a sharp pang of fear. He looked across at the Mentat\\'s puzzled frown.\\n\"Where were you woolgathering that time?\" Hawat asked.\\n\"Did you meet the Reverend Mother?\"\\n\"That Truthsayer witch from the Imperium?\" Hawat\\'s eyes quickened with interest. \"I met her.\"\\n\"She . . . \" Paul hesitated, found that he couldn\\'t tell Hawat about the ordeal. The inhibitions went deep. \\n\"Yes? What did she?\"\\nPaul took two deep breaths. \"She said a thing.\" He closed his eyes, calling up the words, and when he spoke his voice unconsciously took on some of the old woman\\'s tone: \" \\'You, Paul Atreides, descendant of kings, son of a Duke, you must learn to rule. It\\'s something none of your ancestors learned.\\' \" Paul opened his eyes, said: \"That made me angry and I said my father rules an entire planet. And she said, \\'He\\'s losing it.\\' And I said my father was getting a richer planet.'),\n",
       " Document(metadata={'split': 5}, page_content='YUEH (yu\\'e), Wellington (weling-tun), Stdrd 10,082-10,191; medical doctor of the Suk School (grd Stdrd 10,112); md: Wanna Marcus, B.G. (Stdrd 10,092-10,186?); chiefly noted as betrayer of Duke Leto Atreides. (Cf: Bibliography, Appendix VII [Imperial Conditioning] and Betrayal, The.)\\n-from \"Dictionary of Muad\\'Dib\" by the Princess Irulan\\n\\nAlthough he heard Dr. Yueh enter the training room, noting the stiff deliberation of the man\\'s pace, Paul remained stretched out face down on the exercise table where the masseuse had left him. He felt deliciously relaxed after the workout with Gurney Halleck.\\n\"You do look comfortable,\" said Yueh in his calm, high-pitched voice.\\nPaul raised his head, saw the man\\'s stick figure standing several paces away, took in at a glance the wrinkled black clothing, the square block of a head with purple lips and drooping mustache, the diamond tattoo of Imperial Conditioning on his forehead, the long black hair caught in the Suk School\\'s silver ring at the left shoulder.\\n\"You\\'ll be happy to hear we haven\\'t time for regular lessons today,\" Yueh said. \"Your father will be along presently.\" \\nPaul sat up.\\n\"However, I\\'ve arranged for you to have a filmbook viewer and several lessons during the crossing to Arrakis.\" \\n\"Oh.\"\\nPaul began pulling on his clothes. He felt excitement that his father would be coming. They had spent so little time together since the Emperor\\'s command to take over the fief of Arrakis.\\nYueh crossed to the ell table, thinking: How the boy has filled out these past few months. Such a waste! Oh, such a sad waste. And he reminded himself: I must not falter. What I do is done to be certain my Wanna no longer can be hurt by the Harkonnen beasts.\\nPaul joined him at the table, buttoning his jacket. \"What\\'ll I be studying on the way across?\"\\n\"Ah-h-h-h, the terranic life forms of Arrakis. The planet seems to have opened its'),\n",
       " Document(metadata={'split': 1}, page_content=' Great Houses of the Landsraad.\\n\"A popular man arouses the jealousy of the powerful,\" Hawat had said.\\nArrakis -- Dune -- Desert Planet.\\nPaul fell asleep to dream of an Arrakeen cavern, silent people all around him moving in the dim light of glowglobes. It was solemn there and like a cathedral as he listened to a faint sound -- the drip-drip-drip of water. Even while he remained in the dream, Paul knew he would remember it upon awakening. He always remembered the dreams that were predictions. \\nThe dream faded.\\nPaul awoke to feel himself in the warmth of his bed -- thinking . . . thinking. This world of Castle Caladan, without play or companions his own age, perhaps did not deserve sadness in farewell. Dr. Yueh, his teacher, had hinted that the faufreluches class system was not rigidly guarded on Arrakis. The planet sheltered people who lived at the desert edge without caid or bashar to command them: will-o\\'-the-sand people called Fremen, marked down on no census of the Imperial Regate. \\nArrakis -- Dune -- Desert Planet.\\nPaul sensed his own tensions, decided to practice one of the mind-body lessons his mother had taught him. Three quick breaths triggered the responses: he fell into the floating awareness . . . focusing the consciousness . . . aortal dilation . . . avoiding the unfocused mechanism of consciousness . . . to be conscious by choice . . . blood enriched and swift-flooding the overload regions . . . one does not obtain food-safety-freedom by instinct alone . . . animal consciousness does not extend beyond the given moment nor into the idea that its victims may become extinct . . . the animal destroys and does not produce . . . animal pleasures remain close to sensation levels and avoid the perceptual . . . the human requires a background grid through which to see his universe . . . focused consciousness by choice, this forms your grid . . . bodily integrity follows nerve-blood flow according to the deepest awareness of cell needs . . . all things/cells/beings are impermanent . . . strive for flow-permanence within . . . \\nOver and over and over within Paul\\'s floating awareness the lesson rolled.\\nWhen dawn touched Paul\\'s window sill with yellow light, he sensed it through closed eyelids'),\n",
       " Document(metadata={'split': 1}, page_content='manent . . . strive for flow-permanence within . . . \\nOver and over and over within Paul\\'s floating awareness the lesson rolled.\\nWhen dawn touched Paul\\'s window sill with yellow light, he sensed it through closed eyelids, opened them, hearing then the renewed bustle and hurry in the castle, seeing the familiar patterned beams of his bedroom ceiling.\\nThe hall door opened and his mother peered in, hair like shaded bronze held with a black ribbon at the crown, her oval face emotionless and green eyes staring solemnly. \\n\"You\\'re awake,\" she said. \"Did you sleep well?\" \\n\"Yes.\"\\nHe studied the tallness of her, saw the hint of tension in her shoulders as she chose clothing for him from the closet racks. Another might have missed the tension, but she had trained him in the Bene Gesserit Way -- in the minutiae of observation. She turned, holding a semiformal jacket for him. It carried the red Atreides hawk crest above the breast pocket.\\n\"Hurry and dress,\" she said. \"Reverend Mother is waiting.\" \\n\"I dreamed of her once,\" Paul said. \"Who is she?\" \\n\"She was my teacher at the Bene Gesserit school. Now, she\\'s the Emperor\\'s Truthsayer. And Paul . . . \" She hesitated. \"You must tell her about your dreams.\"\\n\"I will. Is she the reason we got Arrakis?\"\\n\"We did not get Arrakis.\" Jessica flicked dust from a pair of trousers, hung them with the jacket on the dressing stand beside his bed. \"Don\\'t keep Reverend Mother waiting.\" \\nPaul sat up, hugged his knees. \"What\\'s a gom jabbar?\" \\nAgain, the training she had given him exposed her almost invisible hesitation, a nervous betrayal he felt as fear.\\nJessica crossed to the window, flung wide the draperies, stared across the river orchards toward Mount Syubi. \"You\\'ll learn about . . . the gom jabbar soon enough,\" she said. \\nHe heard the fear in her voice and wondered at it.\\nJessica spoke without turning. \"Reverend Mother is waiting in my morning room. Please hurry.\"\\n\\nThe Reverend Mother Gaius Helen Mohiam sat in a tapestried chair watching mother and son approach. Windows')]"
      ]
     },
     "execution_count": 3,
     "metadata": {},
     "output_type": "execute_result"
    }
   ],
   "source": [
    "import manage_vector_db as db_util\n",
    "\n",
    "rm = db_util.get_retriever()\n",
    "rm.invoke(\"Who is Paul Atreides?\")"
   ]
  },
  {
   "cell_type": "code",
   "execution_count": null,
   "id": "753ed207",
   "metadata": {},
   "outputs": [],
   "source": []
  }
 ],
 "metadata": {
  "kernelspec": {
   "display_name": "Python 3 (ipykernel)",
   "language": "python",
   "name": "python3"
  },
  "language_info": {
   "codemirror_mode": {
    "name": "ipython",
    "version": 3
   },
   "file_extension": ".py",
   "mimetype": "text/x-python",
   "name": "python",
   "nbconvert_exporter": "python",
   "pygments_lexer": "ipython3",
   "version": "3.12.3"
  }
 },
 "nbformat": 4,
 "nbformat_minor": 5
}
